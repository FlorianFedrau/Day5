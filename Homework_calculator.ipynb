{
 "cells": [
  {
   "cell_type": "code",
   "execution_count": 1,
   "metadata": {},
   "outputs": [],
   "source": [
    "taxinfo = [(50000, 0.08), (100000, 0.10), (150000, 0.15)]"
   ]
  },
  {
   "cell_type": "code",
   "execution_count": 2,
   "metadata": {},
   "outputs": [],
   "source": [
    "def calculator(income, taxinfo):\n",
    "    taxinfo.sort()\n",
    "    taxinfo.insert(0, (0, 0))\n",
    "    tax = 0\n",
    "    for i in range(len(taxinfo)):\n",
    "        if(income > taxinfo[i][0] and i + 1 < len(taxinfo)):\n",
    "            tax += (taxinfo[i+1][0] - taxinfo[i][0]) * (taxinfo[i+1][1])\n",
    "        else:\n",
    "            break\n",
    "    tax += (income - taxinfo[i][0]) * (taxinfo[i][1])\n",
    "    taxinfo.remove((0,0))\n",
    "    return tax"
   ]
  },
  {
   "cell_type": "code",
   "execution_count": 3,
   "metadata": {},
   "outputs": [],
   "source": [
    "def calculator2(income, taxinfo):\n",
    "    newlist = [(min([a[1] for a in taxinfo if num <= a[0]], default=max(taxinfo)[1])) for num in range(income+1)]\n",
    "    return int(sum(newlist))"
   ]
  },
  {
   "cell_type": "code",
   "execution_count": 4,
   "metadata": {},
   "outputs": [
    {
     "data": {
      "text/plain": [
       "16500.0"
      ]
     },
     "execution_count": 4,
     "metadata": {},
     "output_type": "execute_result"
    }
   ],
   "source": [
    "## Ugly but fast one-liner\n",
    "def calculator3(ti, inc):\n",
    "    ti_w = [(a[0], b[0]-a[0], b[1]) for a, b in zip([(0, 0)]+ti, ti)]\n",
    "    return sum([min(w, inc-s)*r for s, w, r in ti_w[:-1] if inc>=s] \\\n",
    "              +[(inc-s) * r if inc>=s else 0 for s, _, r in ti_w[-1:]])\n",
    "\n",
    "#%%timeit\n",
    "## Timing Ugly but fast one-liner #1\n",
    "income = 150000\n",
    "info = [(50000, 0.08), (100000, 0.10), (150000, 0.15)]\n",
    "info.sort()\n",
    "calculator3(info, income)"
   ]
  },
  {
   "cell_type": "code",
   "execution_count": 5,
   "metadata": {},
   "outputs": [],
   "source": [
    "def calculator4(income, taxinfo):\n",
    "    taxinfo.insert(0, (0, 0))\n",
    "    tax = 0\n",
    "    i = 0\n",
    "    while income > taxinfo[i][0] and i + 1 < len(taxinfo):\n",
    "        tax += (taxinfo[i+1][0] - taxinfo[i][0]) * (taxinfo[i+1][1])\n",
    "        i += 1\n",
    "    tax += (income - taxinfo[i][0]) * (taxinfo[i][1])\n",
    "    taxinfo.remove((0,0))\n",
    "    return tax"
   ]
  },
  {
   "cell_type": "code",
   "execution_count": 6,
   "metadata": {},
   "outputs": [],
   "source": [
    "def calculator1 (tax_info, income):\n",
    "    #sort the list of tax_info\n",
    "    tax_info.sort() \n",
    "    #init taxes and taxed_income\n",
    "    taxes = 0        \n",
    "    taxed_income = 0\n",
    "    #iterating over the taxe_info list\n",
    "    for i in range(len(tax_info)):\n",
    "        #if the income is bigger than the current bound\n",
    "        if income >= tax_info[i][0]:\n",
    "            #if we have not reached the last tax bound\n",
    "            if i + 1 != len(tax_info):\n",
    "                 #we update our taxes\n",
    "                taxes = taxes + (tax_info[i][0] - taxed_income) * tax_info[i][1]\n",
    "                 # we save the income we already payed taxes one \n",
    "                taxed_income = tax_info[i][0]           \n",
    "            else:\n",
    "                #in the last taxebound we have to pay taxes for the rest of our income\n",
    "                taxes = taxes + (income - taxed_income) * tax_info[i][1] \n",
    "                taxed_income = tax_info[i][0]\n",
    "        #if the income is lower than the next bound\n",
    "        else: \n",
    "            #we update our taxes \n",
    "            taxes = taxes + (income - taxed_income) * tax_info[i][1]\n",
    "             #no income left to pay taxes for, so we break\n",
    "            break\n",
    "    #return the taxes we have to pay\n",
    "    return taxes "
   ]
  },
  {
   "cell_type": "code",
   "execution_count": 7,
   "metadata": {},
   "outputs": [
    {
     "name": "stdout",
     "output_type": "stream",
     "text": [
      "Solution from friday:\n",
      "1.48 µs ± 62.1 ns per loop (mean ± std. dev. of 7 runs, 1000000 loops each)\n",
      "result: 16500.0\n",
      "for-loop:\n",
      "2.04 µs ± 62.3 ns per loop (mean ± std. dev. of 7 runs, 100000 loops each)\n",
      "result: 16500.0\n",
      "List comprehension:\n",
      "158 ms ± 3.27 ms per loop (mean ± std. dev. of 7 runs, 10 loops each)\n",
      "result: 16500\n",
      "Robins who knows: \n",
      "2.37 µs ± 14.1 ns per loop (mean ± std. dev. of 7 runs, 100000 loops each)\n",
      "result: 16500.0\n",
      "While loop:\n",
      "1.62 µs ± 50.3 ns per loop (mean ± std. dev. of 7 runs, 1000000 loops each)\n",
      "result:16500.0\n"
     ]
    }
   ],
   "source": [
    "print('Solution from friday:')\n",
    "%timeit calculator1(taxinfo, 150000)\n",
    "print('result: ' + str(calculator1(taxinfo, 150000)))\n",
    "print('for-loop:')\n",
    "%timeit calculator(150000, taxinfo)\n",
    "print('result: ' + str(calculator(150000, taxinfo)))\n",
    "print('List comprehension:')\n",
    "%timeit calculator2(150000, taxinfo)\n",
    "print('result: ' + str(calculator2(150000, taxinfo)))\n",
    "print('Robins who knows: ')\n",
    "%timeit calculator3(taxinfo, 150000)\n",
    "print('result: ' + str(calculator3(taxinfo, 150000)))\n",
    "print('While loop:')\n",
    "%timeit calculator4(150000, taxinfo)\n",
    "print('result:' + str(calculator4(150000, taxinfo)))\n"
   ]
  },
  {
   "cell_type": "code",
   "execution_count": null,
   "metadata": {},
   "outputs": [],
   "source": []
  }
 ],
 "metadata": {
  "kernelspec": {
   "display_name": "Python [conda env:nf] *",
   "language": "python",
   "name": "conda-env-nf-py"
  },
  "language_info": {
   "codemirror_mode": {
    "name": "ipython",
    "version": 3
   },
   "file_extension": ".py",
   "mimetype": "text/x-python",
   "name": "python",
   "nbconvert_exporter": "python",
   "pygments_lexer": "ipython3",
   "version": "3.6.6"
  }
 },
 "nbformat": 4,
 "nbformat_minor": 2
}
